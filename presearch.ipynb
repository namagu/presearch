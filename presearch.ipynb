{
 "cells": [
  {
   "cell_type": "code",
   "execution_count": 3,
   "metadata": {},
   "outputs": [],
   "source": [
    "import pandas as pd\n",
    "import lightkurve as lk\n",
    "import matplotlib\n",
    "import matplotlib.pyplot as plt\n",
    "from astroquery.mast import Catalogs"
   ]
  },
  {
   "cell_type": "markdown",
   "metadata": {},
   "source": [
    "### Step 1\n",
    "have a list of deliveries and what we vetted and what the individual and final dispositions were and what day they were vetted on"
   ]
  },
  {
   "cell_type": "code",
   "execution_count": 3,
   "metadata": {},
   "outputs": [],
   "source": [
    "# insert code here"
   ]
  },
  {
   "cell_type": "markdown",
   "metadata": {},
   "source": [
    "### Step 2\n",
    "load in the list of targets from TEV as a csv file "
   ]
  },
  {
   "cell_type": "code",
   "execution_count": 4,
   "metadata": {},
   "outputs": [],
   "source": [
    "table = pd.read_csv(\"/home/jovyan/spoc-s02.csv\")"
   ]
  },
  {
   "cell_type": "code",
   "execution_count": 5,
   "metadata": {},
   "outputs": [
    {
     "data": {
      "text/html": [
       "<div>\n",
       "<style scoped>\n",
       "    .dataframe tbody tr th:only-of-type {\n",
       "        vertical-align: middle;\n",
       "    }\n",
       "\n",
       "    .dataframe tbody tr th {\n",
       "        vertical-align: top;\n",
       "    }\n",
       "\n",
       "    .dataframe thead th {\n",
       "        text-align: right;\n",
       "    }\n",
       "</style>\n",
       "<table border=\"1\" class=\"dataframe\">\n",
       "  <thead>\n",
       "    <tr style=\"text-align: right;\">\n",
       "      <th></th>\n",
       "      <th>src</th>\n",
       "      <th>tic_id</th>\n",
       "      <th>toi_id</th>\n",
       "      <th>Disposition</th>\n",
       "      <th>RA</th>\n",
       "      <th>Dec</th>\n",
       "      <th>Tmag</th>\n",
       "      <th>Tmag Err</th>\n",
       "      <th>Epoc</th>\n",
       "      <th>Epoc Err</th>\n",
       "      <th>...</th>\n",
       "      <th>Centroid offset</th>\n",
       "      <th>Master</th>\n",
       "      <th>SG1a</th>\n",
       "      <th>SG1b</th>\n",
       "      <th>SG2</th>\n",
       "      <th>SG3</th>\n",
       "      <th>SG4</th>\n",
       "      <th>SG5</th>\n",
       "      <th>Created</th>\n",
       "      <th>Updated</th>\n",
       "    </tr>\n",
       "  </thead>\n",
       "  <tbody>\n",
       "    <tr>\n",
       "      <th>0</th>\n",
       "      <td>spoc</td>\n",
       "      <td>144440290</td>\n",
       "      <td>00222.01</td>\n",
       "      <td>PC</td>\n",
       "      <td>359.161519</td>\n",
       "      <td>-44.719088</td>\n",
       "      <td>8.723</td>\n",
       "      <td>0.017</td>\n",
       "      <td>1376.544000</td>\n",
       "      <td>NaN</td>\n",
       "      <td>...</td>\n",
       "      <td>False</td>\n",
       "      <td>3</td>\n",
       "      <td>4</td>\n",
       "      <td>3</td>\n",
       "      <td>3</td>\n",
       "      <td>4</td>\n",
       "      <td>4</td>\n",
       "      <td>4</td>\n",
       "      <td>2018-11-16 21:15:19.213203+00:00</td>\n",
       "      <td>2018-11-26 23:22:27.615763+00:00</td>\n",
       "    </tr>\n",
       "    <tr>\n",
       "      <th>1</th>\n",
       "      <td>spoc</td>\n",
       "      <td>441053949</td>\n",
       "      <td>?.01</td>\n",
       "      <td>PC</td>\n",
       "      <td>359.275500</td>\n",
       "      <td>-17.077000</td>\n",
       "      <td>12.913</td>\n",
       "      <td>0.060</td>\n",
       "      <td>1364.688846</td>\n",
       "      <td>0.003035</td>\n",
       "      <td>...</td>\n",
       "      <td>False</td>\n",
       "      <td>3</td>\n",
       "      <td>4</td>\n",
       "      <td>3</td>\n",
       "      <td>3</td>\n",
       "      <td>4</td>\n",
       "      <td>4</td>\n",
       "      <td>4</td>\n",
       "      <td>2018-11-16 21:15:21.692954+00:00</td>\n",
       "      <td>2018-11-26 22:37:51.753648+00:00</td>\n",
       "    </tr>\n",
       "    <tr>\n",
       "      <th>2</th>\n",
       "      <td>spoc</td>\n",
       "      <td>441056702</td>\n",
       "      <td>?.01</td>\n",
       "      <td>PC</td>\n",
       "      <td>359.518900</td>\n",
       "      <td>-15.066200</td>\n",
       "      <td>11.051</td>\n",
       "      <td>0.040</td>\n",
       "      <td>NaN</td>\n",
       "      <td>NaN</td>\n",
       "      <td>...</td>\n",
       "      <td>False</td>\n",
       "      <td>3</td>\n",
       "      <td>4</td>\n",
       "      <td>3</td>\n",
       "      <td>3</td>\n",
       "      <td>4</td>\n",
       "      <td>4</td>\n",
       "      <td>4</td>\n",
       "      <td>2018-11-16 21:15:21.619223+00:00</td>\n",
       "      <td>2018-11-26 22:31:30.714472+00:00</td>\n",
       "    </tr>\n",
       "    <tr>\n",
       "      <th>3</th>\n",
       "      <td>spoc</td>\n",
       "      <td>326453034</td>\n",
       "      <td>00223.01</td>\n",
       "      <td>PC</td>\n",
       "      <td>339.677665</td>\n",
       "      <td>-25.631723</td>\n",
       "      <td>10.206</td>\n",
       "      <td>0.018</td>\n",
       "      <td>1355.957510</td>\n",
       "      <td>0.002649</td>\n",
       "      <td>...</td>\n",
       "      <td>False</td>\n",
       "      <td>3</td>\n",
       "      <td>4</td>\n",
       "      <td>3</td>\n",
       "      <td>3</td>\n",
       "      <td>4</td>\n",
       "      <td>4</td>\n",
       "      <td>4</td>\n",
       "      <td>2018-11-16 21:15:25.490004+00:00</td>\n",
       "      <td>2018-11-26 22:29:30.681603+00:00</td>\n",
       "    </tr>\n",
       "    <tr>\n",
       "      <th>4</th>\n",
       "      <td>spoc</td>\n",
       "      <td>70797900</td>\n",
       "      <td>00224.01</td>\n",
       "      <td>PC</td>\n",
       "      <td>1.977400</td>\n",
       "      <td>-29.979000</td>\n",
       "      <td>10.950</td>\n",
       "      <td>0.040</td>\n",
       "      <td>1365.843681</td>\n",
       "      <td>0.000240</td>\n",
       "      <td>...</td>\n",
       "      <td>False</td>\n",
       "      <td>3</td>\n",
       "      <td>4</td>\n",
       "      <td>3</td>\n",
       "      <td>3</td>\n",
       "      <td>4</td>\n",
       "      <td>4</td>\n",
       "      <td>4</td>\n",
       "      <td>2018-11-16 21:15:40.726719+00:00</td>\n",
       "      <td>2018-11-26 21:27:33.027518+00:00</td>\n",
       "    </tr>\n",
       "  </tbody>\n",
       "</table>\n",
       "<p>5 rows × 40 columns</p>\n",
       "</div>"
      ],
      "text/plain": [
       "    src     tic_id    toi_id Disposition          RA        Dec    Tmag  \\\n",
       "0  spoc  144440290  00222.01          PC  359.161519 -44.719088   8.723   \n",
       "1  spoc  441053949      ?.01          PC  359.275500 -17.077000  12.913   \n",
       "2  spoc  441056702      ?.01          PC  359.518900 -15.066200  11.051   \n",
       "3  spoc  326453034  00223.01          PC  339.677665 -25.631723  10.206   \n",
       "4  spoc   70797900  00224.01          PC    1.977400 -29.979000  10.950   \n",
       "\n",
       "   Tmag Err         Epoc  Epoc Err                ...                 \\\n",
       "0     0.017  1376.544000       NaN                ...                  \n",
       "1     0.060  1364.688846  0.003035                ...                  \n",
       "2     0.040          NaN       NaN                ...                  \n",
       "3     0.018  1355.957510  0.002649                ...                  \n",
       "4     0.040  1365.843681  0.000240                ...                  \n",
       "\n",
       "   Centroid offset  Master  SG1a  SG1b  SG2  SG3  SG4 SG5  \\\n",
       "0            False       3     4     3    3    4    4   4   \n",
       "1            False       3     4     3    3    4    4   4   \n",
       "2            False       3     4     3    3    4    4   4   \n",
       "3            False       3     4     3    3    4    4   4   \n",
       "4            False       3     4     3    3    4    4   4   \n",
       "\n",
       "                            Created                           Updated  \n",
       "0  2018-11-16 21:15:19.213203+00:00  2018-11-26 23:22:27.615763+00:00  \n",
       "1  2018-11-16 21:15:21.692954+00:00  2018-11-26 22:37:51.753648+00:00  \n",
       "2  2018-11-16 21:15:21.619223+00:00  2018-11-26 22:31:30.714472+00:00  \n",
       "3  2018-11-16 21:15:25.490004+00:00  2018-11-26 22:29:30.681603+00:00  \n",
       "4  2018-11-16 21:15:40.726719+00:00  2018-11-26 21:27:33.027518+00:00  \n",
       "\n",
       "[5 rows x 40 columns]"
      ]
     },
     "execution_count": 5,
     "metadata": {},
     "output_type": "execute_result"
    }
   ],
   "source": [
    "table.head()"
   ]
  },
  {
   "cell_type": "markdown",
   "metadata": {},
   "source": [
    "### step 3\n",
    "make a pretty plot\n",
    "(of one light curve)"
   ]
  },
  {
   "cell_type": "code",
   "execution_count": 7,
   "metadata": {},
   "outputs": [],
   "source": [
    "tic1 = table.tic_id[0]\n",
    "lcf = lk.search_lightcurvefile(tic1).download()"
   ]
  },
  {
   "cell_type": "code",
   "execution_count": 14,
   "metadata": {},
   "outputs": [
    {
     "data": {
      "text/plain": [
       "<matplotlib.axes._subplots.AxesSubplot at 0x7f8f33bb0b70>"
      ]
     },
     "execution_count": 14,
     "metadata": {},
     "output_type": "execute_result"
    },
    {
     "data": {
      "image/png": "[encoded data removed]",
      "text/plain": [
       "<Figure size 848.5x400 with 1 Axes>"
      ]
     },
     "metadata": {},
     "output_type": "display_data"
    }
   ],
   "source": [
    "lc = lcf.PDCSAP_FLUX\n",
    "ax = lc.plot(zorder=1,c='lightgrey')\n",
    "lc.flatten(sigma=3).bin(binsize=5).scatter(ax=ax,c=\"orchid\",s=10,alpha=1.0,zorder=2)"
   ]
  },
  {
   "cell_type": "markdown",
   "metadata": {},
   "source": [
    "### step 4\n",
    "\n",
    "apply to a bunch of light curves"
   ]
  },
  {
   "cell_type": "code",
   "execution_count": 10,
   "metadata": {},
   "outputs": [
    {
     "name": "stderr",
     "output_type": "stream",
     "text": [
      "/opt/conda/lib/python3.6/site-packages/ipykernel_launcher.py:5: SettingWithCopyWarning: \n",
      "A value is trying to be set on a copy of a slice from a DataFrame.\n",
      "Try using .loc[row_indexer,col_indexer] = value instead\n",
      "\n",
      "See the caveats in the documentation: http://pandas.pydata.org/pandas-docs/stable/indexing.html#indexing-view-versus-copy\n",
      "  \"\"\"\n"
     ]
    },
    {
     "data": {
      "text/html": [
       "<div>\n",
       "<style scoped>\n",
       "    .dataframe tbody tr th:only-of-type {\n",
       "        vertical-align: middle;\n",
       "    }\n",
       "\n",
       "    .dataframe tbody tr th {\n",
       "        vertical-align: top;\n",
       "    }\n",
       "\n",
       "    .dataframe thead th {\n",
       "        text-align: right;\n",
       "    }\n",
       "</style>\n",
       "<table border=\"1\" class=\"dataframe\">\n",
       "  <thead>\n",
       "    <tr style=\"text-align: right;\">\n",
       "      <th></th>\n",
       "      <th>src</th>\n",
       "      <th>tic_id</th>\n",
       "      <th>toi_id</th>\n",
       "      <th>Disposition</th>\n",
       "      <th>RA</th>\n",
       "      <th>Dec</th>\n",
       "      <th>Tmag</th>\n",
       "      <th>Tmag Err</th>\n",
       "      <th>Epoc</th>\n",
       "      <th>Epoc Err</th>\n",
       "      <th>...</th>\n",
       "      <th>Master</th>\n",
       "      <th>SG1a</th>\n",
       "      <th>SG1b</th>\n",
       "      <th>SG2</th>\n",
       "      <th>SG3</th>\n",
       "      <th>SG4</th>\n",
       "      <th>SG5</th>\n",
       "      <th>Created</th>\n",
       "      <th>Updated</th>\n",
       "      <th>lcfcs</th>\n",
       "    </tr>\n",
       "  </thead>\n",
       "  <tbody>\n",
       "    <tr>\n",
       "      <th>1</th>\n",
       "      <td>spoc</td>\n",
       "      <td>441053949</td>\n",
       "      <td>?.01</td>\n",
       "      <td>PC</td>\n",
       "      <td>359.275500</td>\n",
       "      <td>-17.077000</td>\n",
       "      <td>12.913</td>\n",
       "      <td>0.060</td>\n",
       "      <td>1364.688846</td>\n",
       "      <td>0.003035</td>\n",
       "      <td>...</td>\n",
       "      <td>3</td>\n",
       "      <td>4</td>\n",
       "      <td>3</td>\n",
       "      <td>3</td>\n",
       "      <td>4</td>\n",
       "      <td>4</td>\n",
       "      <td>4</td>\n",
       "      <td>2018-11-16 21:15:21.692954+00:00</td>\n",
       "      <td>2018-11-26 22:37:51.753648+00:00</td>\n",
       "      <td>[TessLightCurveFile(TICID: 441053949)]</td>\n",
       "    </tr>\n",
       "    <tr>\n",
       "      <th>2</th>\n",
       "      <td>spoc</td>\n",
       "      <td>441056702</td>\n",
       "      <td>?.01</td>\n",
       "      <td>PC</td>\n",
       "      <td>359.518900</td>\n",
       "      <td>-15.066200</td>\n",
       "      <td>11.051</td>\n",
       "      <td>0.040</td>\n",
       "      <td>NaN</td>\n",
       "      <td>NaN</td>\n",
       "      <td>...</td>\n",
       "      <td>3</td>\n",
       "      <td>4</td>\n",
       "      <td>3</td>\n",
       "      <td>3</td>\n",
       "      <td>4</td>\n",
       "      <td>4</td>\n",
       "      <td>4</td>\n",
       "      <td>2018-11-16 21:15:21.619223+00:00</td>\n",
       "      <td>2018-11-26 22:31:30.714472+00:00</td>\n",
       "      <td>[TessLightCurveFile(TICID: 441056702)]</td>\n",
       "    </tr>\n",
       "    <tr>\n",
       "      <th>3</th>\n",
       "      <td>spoc</td>\n",
       "      <td>326453034</td>\n",
       "      <td>00223.01</td>\n",
       "      <td>PC</td>\n",
       "      <td>339.677665</td>\n",
       "      <td>-25.631723</td>\n",
       "      <td>10.206</td>\n",
       "      <td>0.018</td>\n",
       "      <td>1355.957510</td>\n",
       "      <td>0.002649</td>\n",
       "      <td>...</td>\n",
       "      <td>3</td>\n",
       "      <td>4</td>\n",
       "      <td>3</td>\n",
       "      <td>3</td>\n",
       "      <td>4</td>\n",
       "      <td>4</td>\n",
       "      <td>4</td>\n",
       "      <td>2018-11-16 21:15:25.490004+00:00</td>\n",
       "      <td>2018-11-26 22:29:30.681603+00:00</td>\n",
       "      <td>[TessLightCurveFile(TICID: 326453034)]</td>\n",
       "    </tr>\n",
       "    <tr>\n",
       "      <th>4</th>\n",
       "      <td>spoc</td>\n",
       "      <td>70797900</td>\n",
       "      <td>00224.01</td>\n",
       "      <td>PC</td>\n",
       "      <td>1.977400</td>\n",
       "      <td>-29.979000</td>\n",
       "      <td>10.950</td>\n",
       "      <td>0.040</td>\n",
       "      <td>1365.843681</td>\n",
       "      <td>0.000240</td>\n",
       "      <td>...</td>\n",
       "      <td>3</td>\n",
       "      <td>4</td>\n",
       "      <td>3</td>\n",
       "      <td>3</td>\n",
       "      <td>4</td>\n",
       "      <td>4</td>\n",
       "      <td>4</td>\n",
       "      <td>2018-11-16 21:15:40.726719+00:00</td>\n",
       "      <td>2018-11-26 21:27:33.027518+00:00</td>\n",
       "      <td>[TessLightCurveFile(TICID: 70797900)]</td>\n",
       "    </tr>\n",
       "  </tbody>\n",
       "</table>\n",
       "<p>4 rows × 41 columns</p>\n",
       "</div>"
      ],
      "text/plain": [
       "    src     tic_id    toi_id Disposition          RA        Dec    Tmag  \\\n",
       "1  spoc  441053949      ?.01          PC  359.275500 -17.077000  12.913   \n",
       "2  spoc  441056702      ?.01          PC  359.518900 -15.066200  11.051   \n",
       "3  spoc  326453034  00223.01          PC  339.677665 -25.631723  10.206   \n",
       "4  spoc   70797900  00224.01          PC    1.977400 -29.979000  10.950   \n",
       "\n",
       "   Tmag Err         Epoc  Epoc Err                   ...                    \\\n",
       "1     0.060  1364.688846  0.003035                   ...                     \n",
       "2     0.040          NaN       NaN                   ...                     \n",
       "3     0.018  1355.957510  0.002649                   ...                     \n",
       "4     0.040  1365.843681  0.000240                   ...                     \n",
       "\n",
       "   Master  SG1a  SG1b  SG2  SG3  SG4  SG5                           Created  \\\n",
       "1       3     4     3    3    4    4    4  2018-11-16 21:15:21.692954+00:00   \n",
       "2       3     4     3    3    4    4    4  2018-11-16 21:15:21.619223+00:00   \n",
       "3       3     4     3    3    4    4    4  2018-11-16 21:15:25.490004+00:00   \n",
       "4       3     4     3    3    4    4    4  2018-11-16 21:15:40.726719+00:00   \n",
       "\n",
       "                            Updated                                   lcfcs  \n",
       "1  2018-11-26 22:37:51.753648+00:00  [TessLightCurveFile(TICID: 441053949)]  \n",
       "2  2018-11-26 22:31:30.714472+00:00  [TessLightCurveFile(TICID: 441056702)]  \n",
       "3  2018-11-26 22:29:30.681603+00:00  [TessLightCurveFile(TICID: 326453034)]  \n",
       "4  2018-11-26 21:27:33.027518+00:00   [TessLightCurveFile(TICID: 70797900)]  \n",
       "\n",
       "[4 rows x 41 columns]"
      ]
     },
     "execution_count": 10,
     "metadata": {},
     "output_type": "execute_result"
    }
   ],
   "source": [
    "# set of first five tics in table\n",
    "mini = table.iloc[1:5,] \n",
    "\n",
    "# data frame of light curve file collections for each individual tic\n",
    "mini[\"lcfcs\"] = mini.tic_id.apply( lambda x : lk.search_lightcurvefile(x).download_all())\n",
    "\n",
    "mini.head()"
   ]
  },
  {
   "cell_type": "code",
   "execution_count": 26,
   "metadata": {},
   "outputs": [
    {
     "name": "stdout",
     "output_type": "stream",
     "text": [
      "nan\n",
      "nan\n",
      "14.445917999999999\n",
      "nan\n"
     ]
    }
   ],
   "source": [
    "for index, row in mini.iterrows():\n",
    "    print(row['Period'])"
   ]
  },
  {
   "cell_type": "markdown",
   "metadata": {},
   "source": [
    "### step 5\n",
    "\n",
    "make a pretty plot for a bunch of tces\n",
    "   *  normalize PDCSAP flux\n",
    "   *  fold it\n",
    "   *  plot it as is\n",
    "   *  bin and plot as a scatterplot over top\n",
    "    "
   ]
  },
  {
   "cell_type": "code",
   "execution_count": 28,
   "metadata": {},
   "outputs": [
    {
     "name": "stdout",
     "output_type": "stream",
     "text": [
      "PC\n",
      "PC\n",
      "PC\n",
      "PC\n"
     ]
    }
   ],
   "source": [
    "# apply some combination of cleanup methods to the lightcurve\n",
    "polish = lambda x: x.PDCSAP_FLUX.normalize()\n",
    "\n",
    "# stitch light curves together for each collection \n",
    "for index, row in mini.iterrows():\n",
    "    # print(len(row['lcfcs']))\n",
    "    lc = polish(row['lcfcs'][0])\n",
    "    for l in row['lcfcs'][1:]:\n",
    "        lc = lc.append(polish(l))\n",
    "    print(row['Disposition'])\n",
    "    lcfold = lc.fold(row['Period'], row['Epoc'])\n",
    "    # ax = lc.plot(zorder=1,c='lightgrey')\n",
    "    # lc.bin(binsize=5).scatter(ax=ax,c=\"orchid\",s=10,alpha=1.0,zorder=2)\n",
    "    # print(\"{}.png\".format(row['tic_id']))\n",
    "    # plt.savefig(\"{}.png\".format(row['tic_id']))\n",
    "    # to png\n",
    "    "
   ]
  },
  {
   "cell_type": "code",
   "execution_count": null,
   "metadata": {},
   "outputs": [],
   "source": []
  },
  {
   "cell_type": "markdown",
   "metadata": {},
   "source": [
    "### step 6\n",
    "\n",
    "batch them up in a nice grid"
   ]
  },
  {
   "cell_type": "code",
   "execution_count": 12,
   "metadata": {},
   "outputs": [
    {
     "ename": "NameError",
     "evalue": "name 'x' is not defined",
     "output_type": "error",
     "traceback": [
      "\u001b[0;31m---------------------------------------------------------------------------\u001b[0m",
      "\u001b[0;31mNameError\u001b[0m                                 Traceback (most recent call last)",
      "\u001b[0;32m<ipython-input-12-1b5ffb7a4805>\u001b[0m in \u001b[0;36m<module>\u001b[0;34m\u001b[0m\n\u001b[1;32m      1\u001b[0m \u001b[0;31m# matplotlib example code\u001b[0m\u001b[0;34m\u001b[0m\u001b[0;34m\u001b[0m\u001b[0;34m\u001b[0m\u001b[0m\n\u001b[1;32m      2\u001b[0m \u001b[0mf\u001b[0m\u001b[0;34m,\u001b[0m \u001b[0;34m(\u001b[0m\u001b[0max1\u001b[0m\u001b[0;34m,\u001b[0m \u001b[0max2\u001b[0m\u001b[0;34m,\u001b[0m \u001b[0max3\u001b[0m\u001b[0;34m)\u001b[0m \u001b[0;34m=\u001b[0m \u001b[0mplt\u001b[0m\u001b[0;34m.\u001b[0m\u001b[0msubplots\u001b[0m\u001b[0;34m(\u001b[0m\u001b[0;36m3\u001b[0m\u001b[0;34m,\u001b[0m \u001b[0msharex\u001b[0m\u001b[0;34m=\u001b[0m\u001b[0;32mTrue\u001b[0m\u001b[0;34m,\u001b[0m \u001b[0msharey\u001b[0m\u001b[0;34m=\u001b[0m\u001b[0;32mTrue\u001b[0m\u001b[0;34m)\u001b[0m\u001b[0;34m\u001b[0m\u001b[0;34m\u001b[0m\u001b[0m\n\u001b[0;32m----> 3\u001b[0;31m \u001b[0max1\u001b[0m\u001b[0;34m.\u001b[0m\u001b[0mplot\u001b[0m\u001b[0;34m(\u001b[0m\u001b[0mx\u001b[0m\u001b[0;34m,\u001b[0m \u001b[0my\u001b[0m\u001b[0;34m)\u001b[0m\u001b[0;34m\u001b[0m\u001b[0;34m\u001b[0m\u001b[0m\n\u001b[0m\u001b[1;32m      4\u001b[0m \u001b[0max1\u001b[0m\u001b[0;34m.\u001b[0m\u001b[0mset_title\u001b[0m\u001b[0;34m(\u001b[0m\u001b[0;34m'Sharing both axes'\u001b[0m\u001b[0;34m)\u001b[0m\u001b[0;34m\u001b[0m\u001b[0;34m\u001b[0m\u001b[0m\n\u001b[1;32m      5\u001b[0m \u001b[0max2\u001b[0m\u001b[0;34m.\u001b[0m\u001b[0mscatter\u001b[0m\u001b[0;34m(\u001b[0m\u001b[0mx\u001b[0m\u001b[0;34m,\u001b[0m \u001b[0my\u001b[0m\u001b[0;34m)\u001b[0m\u001b[0;34m\u001b[0m\u001b[0;34m\u001b[0m\u001b[0m\n",
      "\u001b[0;31mNameError\u001b[0m: name 'x' is not defined"
     ]
    },
    {
     "data": {
      "image/png": "[encoded data removed]",
      "text/plain": [
       "<Figure size 432x288 with 3 Axes>"
      ]
     },
     "metadata": {
      "needs_background": "light"
     },
     "output_type": "display_data"
    }
   ],
   "source": [
    "# matplotlib example code\n",
    "f, (ax1, ax2, ax3) = plt.subplots(3, sharex=True, sharey=True)\n",
    "ax1.plot(x, y)\n",
    "ax1.set_title('Sharing both axes')\n",
    "ax2.scatter(x, y)\n",
    "ax3.scatter(x, 2 * y ** 2 - 1, color='r')\n",
    "# Fine-tune figure; make subplots close to each other and hide x ticks for\n",
    "# all but bottom plot.\n",
    "f.subplots_adjust(hspace=0)\n",
    "plt.setp([a.get_xticklabels() for a in f.axes[:-1]], visible=False)"
   ]
  },
  {
   "cell_type": "markdown",
   "metadata": {},
   "source": [
    "## pseudocode\n",
    "\n",
    "get collection of lightcurves for a tic\n",
    "\n",
    "clean them up\n",
    "\n",
    "stich the lcs together\n",
    "\n",
    "fold the light curves\n",
    "\n",
    "plot the clean light curve for each tic \n",
    "\n",
    "print a \"gallery\" of lcs \n",
    "    use mpl subplots or mpl grid, gridspec?\n",
    "    appreciate scale"
   ]
  },
  {
   "cell_type": "markdown",
   "metadata": {},
   "source": [
    "## to-do list\n",
    "\n",
    "group them by tic\n",
    "\n",
    "check if we’ve seen them before in previous deliveries\n",
    "\n",
    "check wtv to see if they’ll be in future sectors\n",
    "\n",
    "query gaia for brightnesses or query mast for gaia brightnesses\n",
    "   * main star\n",
    "   * nearby stars\n",
    "\n",
    "check if nearby stars are known\n",
    "\n",
    "check if nearby stars are TOIs\n",
    "\n",
    "check if nearby stars are TICs\n",
    "\n",
    "check if nearby stars are false positives\n",
    "\n",
    "has it been marked a false positive on exofop\n",
    "\n",
    "has it been marked a known planet on exofop"
   ]
  },
  {
   "cell_type": "code",
   "execution_count": null,
   "metadata": {},
   "outputs": [],
   "source": []
  }
 ],
 "metadata": {
  "kernelspec": {
   "display_name": "Python 3",
   "language": "python",
   "name": "python3"
  },
  "language_info": {
   "codemirror_mode": {
    "name": "ipython",
    "version": 3
   },
   "file_extension": ".py",
   "mimetype": "text/x-python",
   "name": "python",
   "nbconvert_exporter": "python",
   "pygments_lexer": "ipython3",
   "version": "3.6.8"
  }
 },
 "nbformat": 4,
 "nbformat_minor": 2
}
